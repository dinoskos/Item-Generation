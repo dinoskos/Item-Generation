{
 "cells": [
  {
   "cell_type": "code",
   "execution_count": 1,
   "id": "7be4804c",
   "metadata": {},
   "outputs": [],
   "source": [
    "## Similarity pairs dictionary \n",
    "pairs = [[\"a\", \"d\"], [\"i\", \"l\"], [\"m\", \"n\"]]"
   ]
  },
  {
   "cell_type": "code",
   "execution_count": 2,
   "id": "a3a27874",
   "metadata": {},
   "outputs": [],
   "source": [
    "## Question\n",
    "# Do we want to examine capitalization?\n",
    "# Do we want to examine number?"
   ]
  },
  {
   "cell_type": "code",
   "execution_count": 3,
   "id": "f52b966f",
   "metadata": {},
   "outputs": [
    {
     "data": {
      "text/plain": [
       "[['mzrgb', 'nzrgb'],\n",
       " ['mxryv', 'nxryv'],\n",
       " ['mzqqu', 'nzqqu'],\n",
       " ['mkqcw', 'nkqcw'],\n",
       " ['agdvh', 'dgdvh'],\n",
       " ['izdsh', 'lzdsh'],\n",
       " ['aszpl', 'dszpl'],\n",
       " ['isada', 'lsada'],\n",
       " ['mzqdj', 'nzqdj']]"
      ]
     },
     "execution_count": 3,
     "metadata": {},
     "output_type": "execute_result"
    }
   ],
   "source": [
    "import string\n",
    "import random\n",
    "\n",
    "\n",
    "## Create random generator with beginning placement \n",
    "result = []\n",
    "\n",
    "def id_generator_beginning(size = 5, iteration = 10, chars = string.ascii_lowercase):\n",
    "    for n in range(1, iteration):\n",
    "        pre_generator = ''.join(random.choice(chars) for _ in range(size - 1))\n",
    "        pair = random.choice(pairs)\n",
    "        pair_list = []\n",
    "        for letter in pair:\n",
    "            pair_list.append(letter + pre_generator)\n",
    "        result.append(pair_list)\n",
    "    return result\n",
    "        \n",
    "id_generator_beginning()"
   ]
  },
  {
   "cell_type": "code",
   "execution_count": 4,
   "id": "cd879ec0",
   "metadata": {},
   "outputs": [
    {
     "data": {
      "text/plain": [
       "[['tlqem', 'tlqen'],\n",
       " ['mnfvi', 'mnfvl'],\n",
       " ['ceqxi', 'ceqxl'],\n",
       " ['jtajm', 'jtajn'],\n",
       " ['zdqcm', 'zdqcn'],\n",
       " ['kierm', 'kiern'],\n",
       " ['umlei', 'umlel'],\n",
       " ['uqkha', 'uqkhd'],\n",
       " ['quram', 'quran']]"
      ]
     },
     "execution_count": 4,
     "metadata": {},
     "output_type": "execute_result"
    }
   ],
   "source": [
    "## Create random generator with end placement \n",
    "result = []\n",
    "\n",
    "def id_generator_end(size = 5, iteration = 10, chars = string.ascii_lowercase):\n",
    "    for n in range(1, iteration):\n",
    "        pre_generator = ''.join(random.choice(chars) for _ in range(size - 1))\n",
    "        pair = random.choice(pairs)\n",
    "        pair_list = []\n",
    "        for letter in pair:\n",
    "            pair_list.append(pre_generator + letter)\n",
    "        result.append(pair_list)\n",
    "    return result\n",
    "        \n",
    "id_generator_end()"
   ]
  },
  {
   "cell_type": "code",
   "execution_count": 5,
   "id": "4f145c96",
   "metadata": {},
   "outputs": [
    {
     "data": {
      "text/plain": [
       "[['wbixz', 'wblxz'],\n",
       " ['yrmiw', 'yrniw'],\n",
       " ['xzixq', 'xzlxq'],\n",
       " ['zbmua', 'zbnua'],\n",
       " ['vhmob', 'vhnob'],\n",
       " ['qxmdn', 'qxndn'],\n",
       " ['pwayl', 'pwdyl'],\n",
       " ['ooiaq', 'oolaq'],\n",
       " ['tkapn', 'tkdpn']]"
      ]
     },
     "execution_count": 5,
     "metadata": {},
     "output_type": "execute_result"
    }
   ],
   "source": [
    "## Create random generator with middle placement \n",
    "result = []\n",
    "\n",
    "def id_generator_middle(size = 5, iteration = 10, chars = string.ascii_lowercase):\n",
    "    for n in range(1, iteration):\n",
    "        pre_generator = ''.join(random.choice(chars) for _ in range(size - 1))\n",
    "        pair = random.choice(pairs)\n",
    "        pair_list = []\n",
    "        for letter in pair:\n",
    "            output = pre_generator[:2] + letter + pre_generator[2:]\n",
    "            pair_list.append(output)\n",
    "        result.append(pair_list)\n",
    "    return result\n",
    "        \n",
    "id_generator_middle()"
   ]
  },
  {
   "cell_type": "code",
   "execution_count": 15,
   "id": "88e2eaf1",
   "metadata": {
    "scrolled": true
   },
   "outputs": [
    {
     "data": {
      "text/plain": [
       "[['eexrz', 'eexrz'],\n",
       " ['fdzuu', 'fdzuu'],\n",
       " ['xandf', 'xandf'],\n",
       " ['ruvxp', 'ruvxp'],\n",
       " ['mqyxx', 'mqyxx'],\n",
       " ['bynzr', 'bynzr'],\n",
       " ['ygqtq', 'ygqtq'],\n",
       " ['fjkgu', 'fjkgu'],\n",
       " ['zyffg', 'zyffg']]"
      ]
     },
     "execution_count": 15,
     "metadata": {},
     "output_type": "execute_result"
    }
   ],
   "source": [
    "# Create random generator \n",
    "result = []\n",
    "\n",
    "def id_generator(size = 5, iteration = 10, chars = string.ascii_lowercase):\n",
    "    for n in range(1, iteration):\n",
    "        pair = []\n",
    "        pre_generator = ''.join(random.choice(chars) for _ in range(size))\n",
    "        pair.append(pre_generator)\n",
    "        pair.append(pre_generator)\n",
    "        result.append(pair)\n",
    "    return result\n",
    "        \n",
    "    \n",
    "id_generator()"
   ]
  }
 ],
 "metadata": {
  "kernelspec": {
   "display_name": "Python 3 (ipykernel)",
   "language": "python",
   "name": "python3"
  },
  "language_info": {
   "codemirror_mode": {
    "name": "ipython",
    "version": 3
   },
   "file_extension": ".py",
   "mimetype": "text/x-python",
   "name": "python",
   "nbconvert_exporter": "python",
   "pygments_lexer": "ipython3",
   "version": "3.9.7"
  }
 },
 "nbformat": 4,
 "nbformat_minor": 5
}
