{
 "cells": [
  {
   "cell_type": "code",
   "execution_count": 1,
   "id": "4e3ba040",
   "metadata": {},
   "outputs": [],
   "source": [
    "## Similarity pairs dictionary \n",
    "pairs = [[\"a\", \"d\"], [\"i\", \"l\"], [\"m\", \"n\"]]"
   ]
  },
  {
   "cell_type": "code",
   "execution_count": 2,
   "id": "aeca1009",
   "metadata": {},
   "outputs": [],
   "source": [
    "## Question\n",
    "# Do we want to examine capitalization?\n",
    "# Do we want to examine number?"
   ]
  },
  {
   "cell_type": "code",
   "execution_count": 3,
   "id": "77b9ff03",
   "metadata": {},
   "outputs": [
    {
     "data": {
      "text/plain": [
       "['axajz', 'dxajz']"
      ]
     },
     "execution_count": 3,
     "metadata": {},
     "output_type": "execute_result"
    }
   ],
   "source": [
    "import string\n",
    "import random\n",
    "\n",
    "## Create random sequence without stimuli\n",
    "def id_generator(size=6, chars=string.ascii_uppercase + string.ascii_lowercase):\n",
    "    return ''.join(random.choice(chars) for _ in range(size - 1))\n",
    "\n",
    "pre_generator = id_generator(5)\n",
    "a = random.choice(pairs)\n",
    "result = []\n",
    "\n",
    "## Adding stimuli to random sequence at the beginning\n",
    "def test_pair_beginning():\n",
    "    result = []\n",
    "    a = random.choice(pairs)\n",
    "    for letter in a:\n",
    "        result.append(letter + pre_generator)\n",
    "    return result\n",
    "\n",
    "test_pair_beginning()"
   ]
  },
  {
   "cell_type": "code",
   "execution_count": 4,
   "id": "88c22e06",
   "metadata": {},
   "outputs": [
    {
     "data": {
      "text/plain": [
       "['GEWli', 'GEWll']"
      ]
     },
     "execution_count": 4,
     "metadata": {},
     "output_type": "execute_result"
    }
   ],
   "source": [
    "## Create random sequence without stimuli\n",
    "def id_generator(size=6, chars=string.ascii_uppercase + string.ascii_lowercase):\n",
    "    return ''.join(random.choice(chars) for _ in range(size - 1))\n",
    "\n",
    "pre_generator = id_generator(5)\n",
    "a = random.choice(pairs)\n",
    "result = []\n",
    "\n",
    "## Adding stimuli to random sequence at the end\n",
    "def test_pair_end():\n",
    "    result = []\n",
    "    a = random.choice(pairs)\n",
    "    for letter in a:\n",
    "        result.append(pre_generator + letter)\n",
    "    return result\n",
    "\n",
    "test_pair_end()"
   ]
  },
  {
   "cell_type": "code",
   "execution_count": null,
   "id": "8a1b246c",
   "metadata": {},
   "outputs": [],
   "source": [
    "## Create random sequence without stimuli\n",
    "def id_generator(size=6, chars=string.ascii_uppercase + string.ascii_lowercase):\n",
    "    return ''.join(random.choice(chars) for _ in range(size - 1))\n",
    "\n",
    "pre_generator = id_generator(5)\n",
    "a = random.choice(pairs)\n",
    "result = []\n",
    "\n",
    "## Adding stimuli to random sequence at the middle\n",
    "def test_pair_end():\n",
    "    result = []\n",
    "    a = random.choice(pairs)\n",
    "    for letter in a:\n",
    "        result.append(pre_generator + letter)\n",
    "    return result\n",
    "\n",
    "test_pair_end()"
   ]
  }
 ],
 "metadata": {
  "kernelspec": {
   "display_name": "Python 3 (ipykernel)",
   "language": "python",
   "name": "python3"
  },
  "language_info": {
   "codemirror_mode": {
    "name": "ipython",
    "version": 3
   },
   "file_extension": ".py",
   "mimetype": "text/x-python",
   "name": "python",
   "nbconvert_exporter": "python",
   "pygments_lexer": "ipython3",
   "version": "3.9.7"
  }
 },
 "nbformat": 4,
 "nbformat_minor": 5
}
